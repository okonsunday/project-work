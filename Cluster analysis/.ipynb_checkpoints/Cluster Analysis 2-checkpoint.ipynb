{
 "cells": [
  {
   "cell_type": "code",
   "execution_count": 1,
   "id": "cbf7dda2",
   "metadata": {},
   "outputs": [],
   "source": [
    "# Import relevant Libraries\n",
    "\n",
    "import numpy as np\n",
    "import pandas as pd\n",
    "import matplotlib.pyplot as plt\n",
    "\n",
    "import seaborn as sns\n",
    "sns.set()\n",
    "\n",
    "from sklearn.cluster import KMeans"
   ]
  },
  {
   "cell_type": "code",
   "execution_count": 27,
   "id": "a9644743",
   "metadata": {},
   "outputs": [
    {
     "name": "stdout",
     "output_type": "stream",
     "text": [
      "[0 0 3 3 3 2 1 1]\n"
     ]
    },
    {
     "data": {
      "image/png": "[encoded data removed]",
      "text/plain": [
       "<Figure size 640x480 with 1 Axes>"
      ]
     },
     "metadata": {},
     "output_type": "display_data"
    }
   ],
   "source": [
    "# Load Data\n",
    "raw_data = pd.read_csv(\"3.01.+Country+clusters.csv\")\n",
    "data = raw_data.copy()\n",
    "data[\"Language\"] = data[\"Language\"].map({\"English\": 1, \n",
    "                                         \"French\": 2, \n",
    " \n",
    "                                         \"German\": 3})\n",
    "# Selecting the data\n",
    "X = data.iloc[:, 1:4]\n",
    "\n",
    "x = data[\"Longitude\"]\n",
    "y = data[\"Latitude\"]\n",
    "\n",
    "# wcss\n",
    "wcss = []\n",
    "\n",
    "for i in range(1, 9):\n",
    "    kmeans = KMeans(n_clusters=i)\n",
    "    kmeans.fit(X)    \n",
    "#     wcss_iter = kmeans.inertia_\n",
    "#     wcss.append(wcss_iter)\n",
    "    wcss.append(kmeans.inertia_)\n",
    "\n",
    "\n",
    "# The Elbow Method\n",
    "\n",
    "number_cluster = range(1, 9)\n",
    "\n",
    "# plt.plot(number_cluster, wcss)\n",
    "\n",
    "kmeans = KMeans(n_clusters=4)\n",
    "kmeans.fit(X)\n",
    "\n",
    "identified_clusters = kmeans.fit_predict(X)\n",
    "\n",
    "print(identified_clusters)\n",
    "\n",
    "# Plotting the graph\n",
    "plt.scatter(x, y, c=identified_clusters, cmap=\"rainbow\")\n",
    "plt.xlim(-150, 180)\n",
    "plt.ylim(-50, 80)\n",
    "plt.show()\n",
    "\n"
   ]
  },
  {
   "cell_type": "code",
   "execution_count": null,
   "id": "b365b936",
   "metadata": {},
   "outputs": [],
   "source": []
  },
  {
   "cell_type": "code",
   "execution_count": null,
   "id": "54b64461",
   "metadata": {},
   "outputs": [],
   "source": []
  }
 ],
 "metadata": {
  "kernelspec": {
   "display_name": "Python 3 (ipykernel)",
   "language": "python",
   "name": "python3"
  },
  "language_info": {
   "codemirror_mode": {
    "name": "ipython",
    "version": 3
   },
   "file_extension": ".py",
   "mimetype": "text/x-python",
   "name": "python",
   "nbconvert_exporter": "python",
   "pygments_lexer": "ipython3",
   "version": "3.10.9"
  }
 },
 "nbformat": 4,
 "nbformat_minor": 5
}
